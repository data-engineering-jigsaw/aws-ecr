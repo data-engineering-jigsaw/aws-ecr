{
 "cells": [
  {
   "cell_type": "markdown",
   "id": "5def0923-f52a-4258-9ea5-0d5358bf11ef",
   "metadata": {},
   "source": [
    "# AWS ECR and Policies"
   ]
  },
  {
   "cell_type": "markdown",
   "id": "84c99284-cf8f-4379-bd65-61b5e61b2343",
   "metadata": {},
   "source": [
    "### Introduction"
   ]
  },
  {
   "cell_type": "markdown",
   "id": "30d30282-7b1f-48ba-a3a9-fe8c011856cc",
   "metadata": {},
   "source": [
    "In previous lessons we have stored our docker images on Dockerhub.  However, in a production environment, our images will typically be stored in a cloud service equivalent.  For AWS, this is the elastic container repository.  And a benefit of this, is that images can then be booted up and run on an EC2 instance through the Elastic Container Registry.  \n",
    "\n",
    "In this lesson, we'll see how to use both.  \n",
    "\n",
    "Let's get started."
   ]
  },
  {
   "cell_type": "markdown",
   "id": "2b4138ae-9ab8-422f-9b37-a58f4bf7cdd2",
   "metadata": {},
   "source": [
    "### Booting up a Flask App"
   ]
  },
  {
   "cell_type": "markdown",
   "id": "d89ba947-d1ce-46b9-953f-a23ec9806e7c",
   "metadata": {},
   "source": [
    "Let's begin by moving to the `web_app/app` directory, finding our Dockerfile, and then runnning the following."
   ]
  },
  {
   "cell_type": "markdown",
   "id": "4a696504-62b4-40e1-868a-87aa3a76dbc7",
   "metadata": {},
   "source": [
    "* `docker build -t sample_flask:amd --platform=linux/amd64 .`"
   ]
  },
  {
   "cell_type": "markdown",
   "id": "bd1d4096-9997-421d-beda-219f3db9a170",
   "metadata": {},
   "source": [
    "And you can *try* running this image on your laptop, but it may not work if it's not compatible. "
   ]
  },
  {
   "cell_type": "markdown",
   "id": "c64dbc92-d455-4c14-bead-8ecad43639da",
   "metadata": {},
   "source": [
    "* `docker run  -p 3000:80 sample_flask`"
   ]
  },
  {
   "cell_type": "markdown",
   "id": "0d3886fe-f892-4609-a571-e5747274d9b9",
   "metadata": {},
   "source": [
    "### Deploying to AWS"
   ]
  },
  {
   "cell_type": "markdown",
   "id": "00901a6e-a484-40ff-95c2-b9f7e1e40136",
   "metadata": {},
   "source": [
    "Ok, now that we can see our container working in docker, the next step is to push our image to AWS, and then to have lambda run this image.\n",
    "\n",
    "We can push an image to AWS by using the elastic container registry in AWS.  So search for that in the AWS console."
   ]
  },
  {
   "cell_type": "markdown",
   "id": "637a750b-8da5-4dd5-a787-343d1b69da71",
   "metadata": {},
   "source": [
    "<img src=\"./ecr.png\" width=\"100%\">"
   ]
  },
  {
   "cell_type": "markdown",
   "id": "0389abf2-0219-4cf9-a857-d64ef43f6fb0",
   "metadata": {},
   "source": [
    "Then click on get started, and add a repository name, and click on create repository.  \n",
    "\n",
    "> This is similar to creating a repository in github."
   ]
  },
  {
   "cell_type": "markdown",
   "id": "7e41e466-f85c-4d89-83a2-1d3b35de79fa",
   "metadata": {},
   "source": [
    "Then from there we can push the repo to AWS ECR."
   ]
  },
  {
   "cell_type": "markdown",
   "id": "4a7b70af-409b-43ce-830a-6f1fd3f29da8",
   "metadata": {},
   "source": [
    "<img src=\"./create-repo.png\">"
   ]
  },
  {
   "cell_type": "markdown",
   "id": "10ece0d3-8259-44f1-be41-d809e51ff938",
   "metadata": {},
   "source": [
    "`docker tag sample_flask ****.dkr.ecr.us-east-1.amazonaws.com/flask_app`"
   ]
  },
  {
   "cell_type": "markdown",
   "id": "f0742a0e-c49d-49e4-92a3-800e33a82dd5",
   "metadata": {},
   "source": [
    "```bash\n",
    "(base) % docker image ls\n",
    "REPOSITORY                                                 TAG       IMAGE ID       CREATED         SIZE\n",
    "086729879076.dkr.ecr.us-east-1.amazonaws.com/flask_app     latest    faa24b2f3b27   6 minutes ago   53.1MB\n",
    "```"
   ]
  },
  {
   "cell_type": "markdown",
   "id": "32b40f85-d365-4bdd-a142-97d8338b05f7",
   "metadata": {},
   "source": [
    "* Then push to the ECR repository."
   ]
  },
  {
   "cell_type": "markdown",
   "id": "0e8274b3-0cd9-444a-949a-d37ac590273c",
   "metadata": {},
   "source": [
    "`docker push ***.dkr.ecr.us-east-1.amazonaws.com/flask_app`"
   ]
  },
  {
   "cell_type": "markdown",
   "id": "88f96b49-e00f-4f8d-ba0b-ca856d976dfe",
   "metadata": {},
   "source": [
    "### Pulling our Repo"
   ]
  },
  {
   "cell_type": "markdown",
   "id": "4323ae45-4595-4126-83ee-480d0b5e48fd",
   "metadata": {},
   "source": [
    "Ok, so now that we pushed up our repository.  Next we can use the AWS CLI to try to pull down our repository onto our laptop.  \n",
    "\n",
    "To do so, we cannot immediately pull down our docker image.  Instead, we first have to provide the aws credentials (which are hopefully stored in our `~./aws` folder) to the Docker client installed on our computer -- to allow it to access our ECR."
   ]
  },
  {
   "cell_type": "markdown",
   "id": "84464097-dee7-4003-885e-3b1cae441ede",
   "metadata": {},
   "source": [
    "Ok, so we allow our Docker client to access our AWS account's ECR with the following:"
   ]
  },
  {
   "cell_type": "markdown",
   "id": "ba1c0cf2-853c-4b8c-9134-120d47bdc7dc",
   "metadata": {},
   "source": [
    "```bash\n",
    "aws ecr get-login-password --region your-region | docker login --username AWS --password-stdin your-aws-account-id.dkr.ecr.your-region.amazonaws.com\n",
    "```"
   ]
  },
  {
   "cell_type": "markdown",
   "id": "2773a85b-cea8-4f8d-8d84-470b51e558a1",
   "metadata": {},
   "source": [
    "For example, after `--region`, you'll need to provide the region your using, like us-east-1.  And then after `stdin`, you'll also have to fill in, your account id and region in the specified place.  Constructing that last string is actually in the ECR repo for you.  If you click on your image, you'll see the following:"
   ]
  },
  {
   "cell_type": "markdown",
   "id": "5c116983-eef2-48e8-9cc9-d41ba43ecb0f",
   "metadata": {},
   "source": [
    "<img src=\"./aws-ecr.png\" width=\"80%\">"
   ]
  },
  {
   "cell_type": "markdown",
   "id": "a0475bca-cb05-4179-a91e-f6e558f3e297",
   "metadata": {},
   "source": [
    "That `URI` at the bottom has what we need.  We can just exclude the text `/flask_app:latest`.  So for me, I logged my docker client in with the following."
   ]
  },
  {
   "cell_type": "markdown",
   "id": "552714a5-fc4c-48ff-b77b-cf7ff61ed420",
   "metadata": {},
   "source": [
    "```bash\n",
    "aws ecr get-login-password --region us-east-1 | docker login --username AWS --password-stdin *****.dkr.ecr.us-east-1.amazonaws.com\n",
    "```"
   ]
  },
  {
   "cell_type": "markdown",
   "id": "a619c24f-5b71-4c1b-8315-6757dc7adff3",
   "metadata": {},
   "source": [
    "And once logged in, we can just copy that full uri listed in the console, and run docker pull."
   ]
  },
  {
   "cell_type": "markdown",
   "id": "9b6bf81a-7b32-469e-92a5-f437c77485af",
   "metadata": {
    "tags": []
   },
   "source": [
    "```bash\n",
    "docker pull ******.dkr.ecr.us-east-1.amazonaws.com/flask_app:latest\n",
    "```"
   ]
  },
  {
   "cell_type": "markdown",
   "id": "ce18ed29-71b9-44d0-bf48-2ec6985d376b",
   "metadata": {},
   "source": [
    "Ok, with that, we should have been able to pull our image back down onto our laptop."
   ]
  },
  {
   "cell_type": "markdown",
   "id": "c6670cdb-08b1-499e-8ae3-d531d73b2908",
   "metadata": {},
   "source": [
    "### Pulling down to EC2"
   ]
  },
  {
   "cell_type": "markdown",
   "id": "1c2a86a3-461b-4116-9a27-f8626622c443",
   "metadata": {},
   "source": [
    "Ok, so the next step would be to boot up an ec2 instance, and try to pull down our image.  Let's give it a shot.\n",
    "\n",
    "You can type in EC2, use an ami, and choose your keypair, and then allow the default of allowing ssh access, and might as well select the checkbox for http access."
   ]
  },
  {
   "cell_type": "markdown",
   "id": "8a79d39c-dabc-4960-93ee-ac96583951d9",
   "metadata": {},
   "source": [
    "<img src=\"./ec2-access.png\" width=\"60%\">"
   ]
  },
  {
   "cell_type": "markdown",
   "id": "9cb4a3ae-b819-4a2a-b0be-61442a4c01a1",
   "metadata": {},
   "source": [
    "Click `Launch Instance`, and then use your .pem file to ssh into the machine.  You can click on the `connect` button."
   ]
  },
  {
   "cell_type": "markdown",
   "id": "c145f1b6-322a-4e1c-81a4-8c15bb4f9dca",
   "metadata": {},
   "source": [
    "```bash\n",
    "sudo yum install docker -y\n",
    "sudo systemctl start docker\n",
    "```"
   ]
  },
  {
   "cell_type": "markdown",
   "id": "6ff79dbf-8295-4bdd-8562-1bf3fb901d59",
   "metadata": {},
   "source": [
    "But then, if we try to login to Docker, we'll see the following:"
   ]
  },
  {
   "cell_type": "markdown",
   "id": "a84aacef-d6a4-4f6e-94c3-6f99a433a948",
   "metadata": {},
   "source": [
    "<img src=\"./locate-creds.png\" width=\"80%\">"
   ]
  },
  {
   "cell_type": "markdown",
   "id": "aa23fa3b-28b4-404c-8126-3cf987b349e0",
   "metadata": {},
   "source": [
    "The issue we have above, is that the credentials are not stored on the EC2 machine, and so we cannot use them to login to docker."
   ]
  },
  {
   "cell_type": "markdown",
   "id": "aec3fc88-6d6a-40d1-9482-b0e487895a01",
   "metadata": {},
   "source": [
    "### Granting Permission"
   ]
  },
  {
   "cell_type": "markdown",
   "id": "fd4afc06-b931-41be-b3fc-53b5e1bf528e",
   "metadata": {},
   "source": [
    "So we need to give our EC2 machine the authorization to access our ECR resource.  \n",
    "\n",
    "* A brief intro\n",
    "\n",
    "This may seem like something that would be managed with a security group, security groups are for something different.  Security groups are used to specify how the outside world can access your resources.  For example, when we allow outside computers to make http requests to port 80.  But here we want to grant one AWS resource (our ec2 machine) the ability to access another resource (ECR).  For that we'll need to create *role* in AWS (like a new user) that has access to ECR, and then attach that role to our EC2 machine.\n",
    "\n",
    "Ok, let's get started."
   ]
  },
  {
   "cell_type": "markdown",
   "id": "48fb68af-ec53-4ac3-898a-44ded197d2ab",
   "metadata": {},
   "source": [
    "We can manage our EC2 instance's role by clicking on the EC2 instance, and then `Instance State` > `Security` > `Modify IAM role`."
   ]
  },
  {
   "cell_type": "markdown",
   "id": "d0d8bbb5-300d-440d-a2e3-fd909f9b2a51",
   "metadata": {},
   "source": [
    "<img src=\"./iam-role.png\" width=\"50%\">"
   ]
  },
  {
   "cell_type": "markdown",
   "id": "211baddc-f45a-49a9-9d89-867136f814ea",
   "metadata": {},
   "source": [
    "From there, we want to create a new IAM role that has ECR access.  So click the link `Create new IAM role`. "
   ]
  },
  {
   "cell_type": "markdown",
   "id": "088fd18c-ab5d-470f-8fcc-f132e856b287",
   "metadata": {},
   "source": [
    "<img src=\"./create-iam.png\" width=\"60%\">"
   ]
  },
  {
   "cell_type": "markdown",
   "id": "6c6c65bc-ca63-4c65-815e-fb49ae9a3e25",
   "metadata": {},
   "source": [
    "Ok, so IAM stands for Identify and Access Management.  And AWS gets us right into it by asking what kind of service we'll be creating a role for.  Choose EC2, as this will be for an EC2 instance."
   ]
  },
  {
   "cell_type": "markdown",
   "id": "675d4d16-6f38-4174-bfd2-b6301c226a1f",
   "metadata": {},
   "source": [
    "<img src=\"./ec2-service.png\" width=\"60%\">"
   ]
  },
  {
   "cell_type": "markdown",
   "id": "4f5efd5d-7c39-430a-b081-e6c5ee147666",
   "metadata": {},
   "source": [
    "Next, we'll need to specify what *permissions* this role will have.  Search for `Container` and then you can select either `AmazonEC2ContainerRegistryReadOnly` or `AmazonEC2ContainerRegistryFullAccess` (but read only is preferred)."
   ]
  },
  {
   "cell_type": "markdown",
   "id": "acfe9dd4-1f0c-4bce-a622-5d1283806198",
   "metadata": {},
   "source": [
    "<img src=\"./ecr-role.png\" width=\"60%\">"
   ]
  },
  {
   "cell_type": "markdown",
   "id": "c439fd5a-9948-43f7-9342-6ab0295a5424",
   "metadata": {},
   "source": [
    "If you click on the `+` you can see the details of this policy.  For example, for the read only, it grants Allow access to any of the ecr resources (ie any repository), to perform the actions specified under `Action: []`."
   ]
  },
  {
   "cell_type": "markdown",
   "id": "7840cbb5-e709-4ca1-a3d2-856656b48c3a",
   "metadata": {},
   "source": [
    "In the next screen, we get ready to create our role -- giving it a descriptive name."
   ]
  },
  {
   "cell_type": "markdown",
   "id": "af7aab2c-329e-413f-bfdf-feb0c6edcc32",
   "metadata": {},
   "source": [
    "<img src=\"./ec2-ecr.png\" width=\"60%\">"
   ]
  },
  {
   "cell_type": "markdown",
   "id": "2d3d8bdd-248d-46cc-b4d4-6f80f3879d04",
   "metadata": {},
   "source": [
    "* Notice that under `Principal: Service` it says `ec2.amazonaws.com` as that is the resource that will be able to perform this action.  And we are allowing it the ability to assume the role as this new role, that has ECR permissions, that we are creating."
   ]
  },
  {
   "cell_type": "markdown",
   "id": "0eb17d3b-789e-4103-9172-6d1dfcc053bb",
   "metadata": {},
   "source": [
    "Then click `Create Role`."
   ]
  },
  {
   "cell_type": "markdown",
   "id": "e3657c7a-e823-445e-8936-9d5e12d540f9",
   "metadata": {},
   "source": [
    "* Attaching the role"
   ]
  },
  {
   "cell_type": "markdown",
   "id": "1403bfbe-7dec-4b9f-b9be-1d4d9733bcae",
   "metadata": {},
   "source": [
    "Ok, so we just created a role that gives EC2 machines access to the ECR resource.  The next step is to *attach* this role to our EC2 machine.  \n",
    "\n",
    "So go back to the original Modify IAM Role for the EC2 machine.  You can click the `Refresh` button (next to Create new Iam role), and you should see the role that you just created in the dropdown.  Now select it.  Then click `Update IAM role`."
   ]
  },
  {
   "cell_type": "markdown",
   "id": "37b7ab73-d3ca-44f2-a32b-50ce7c193989",
   "metadata": {},
   "source": [
    "<img src=\"./update-iam-role.png\" width=\"60%\">"
   ]
  },
  {
   "cell_type": "markdown",
   "id": "043a6044-1d5f-4f21-98d9-eabd0c19aaa6",
   "metadata": {},
   "source": [
    "This will *attach* the role to the ec2 machine.  We can see that if we go back to `EC2 > Instances` and click on our instance."
   ]
  },
  {
   "cell_type": "markdown",
   "id": "e8a7df75-98e2-4580-b872-d4a9f42aef3c",
   "metadata": {},
   "source": [
    "<img src=\"./ec2-attached.png\" width=\"50%\">"
   ]
  },
  {
   "cell_type": "markdown",
   "id": "6441f3e6-4f1c-47f9-907b-72ead7741094",
   "metadata": {},
   "source": [
    "> You can see our newly attached role under `IAM Role`. "
   ]
  },
  {
   "cell_type": "markdown",
   "id": "567d82a3-8c0e-4832-82d1-a36098e852bb",
   "metadata": {},
   "source": [
    "### Pulling down our image"
   ]
  },
  {
   "cell_type": "markdown",
   "id": "555672bb-2bd6-4c67-8202-3e3631a80a28",
   "metadata": {},
   "source": [
    "Ok, so now that our EC2 image has access to our ECR repository, we can now use the same step to login the docker client on our EC2 machine to get ECR access."
   ]
  },
  {
   "cell_type": "markdown",
   "id": "b096e1b1-bbc8-4a27-aaff-59afe7ff73f6",
   "metadata": {},
   "source": [
    "```bash\n",
    "aws ecr get-login-password --region us-east-1 | sudo docker login --username AWS --password-stdin ****.dkr.ecr.us-east-1.amazonaws.com\n",
    "```"
   ]
  },
  {
   "cell_type": "markdown",
   "id": "a7535ed6-fe87-4349-8154-0d56d277aecf",
   "metadata": {},
   "source": [
    "And from there, we can pull down our image."
   ]
  },
  {
   "cell_type": "markdown",
   "id": "b3f1eb18-49c4-4e14-83f4-a2bc78c95ead",
   "metadata": {},
   "source": [
    "```bash\n",
    "sudo docker pull  ******.dkr.ecr.us-east-1.amazonaws.com/flask_app:latest\n",
    "```"
   ]
  },
  {
   "cell_type": "markdown",
   "id": "8d83773a-3ea3-4a72-aa66-124c00fa7ad8",
   "metadata": {},
   "source": [
    "So because we granted our EC2 machine access to our ECR repo, when we ran `aws ecr get-login-password --region us-east-1`, the AWS CLI used our instance's attached IAM role for authentication and authorization, and our IAM role had the permission to for `ecr:GetAuthorizationToken`."
   ]
  },
  {
   "cell_type": "markdown",
   "id": "810aabe8-6920-4f24-8e26-7c41a3db22d2",
   "metadata": {},
   "source": [
    "<img src=\"./ecr-role.png\" width=\"60%\">"
   ]
  },
  {
   "cell_type": "markdown",
   "id": "f10deebc-eae4-4fb0-a900-c7377a2637c4",
   "metadata": {},
   "source": [
    "And we then gave that login token to our docker client, before pulling down our image.  We can even see that login token on our ec2 machine."
   ]
  },
  {
   "cell_type": "markdown",
   "id": "05b74451-04f4-41db-8f0f-d5f428c9b495",
   "metadata": {},
   "source": [
    "* Just run: `sudo cat /root/.docker/config.json` and you'll see the login token."
   ]
  },
  {
   "cell_type": "markdown",
   "id": "7f0a83ce-81d7-4e0e-96d2-04bc3561946a",
   "metadata": {
    "tags": []
   },
   "source": [
    "### Resources"
   ]
  },
  {
   "cell_type": "markdown",
   "id": "a51aa6e6-44a6-48a0-810c-545607cbe6cf",
   "metadata": {},
   "source": [
    "[IAM roles and assume roles](https://docs.aws.amazon.com/cli/latest/userguide/cli-configure-role.html)"
   ]
  },
  {
   "cell_type": "markdown",
   "id": "e7079eb2-436c-4a90-b085-a72b569ed489",
   "metadata": {},
   "source": [
    "[Final Attempt](https://beabetterdev.com/2023/01/29/ecs-fargate-tutorial-with-fastapi/)"
   ]
  },
  {
   "cell_type": "markdown",
   "id": "e42fb47b-afbc-42c8-96c3-eea22c9582fb",
   "metadata": {},
   "source": [
    "[Gentle Intro to how ECS works - AWS ECS Tutorial](https://medium.com/boltops/gentle-introduction-to-how-aws-ecs-works-with-example-tutorial-cea3d27ce63d)\n",
    "\n",
    "[AWS ECS](https://docs.aws.amazon.com/AmazonECS/latest/developerguide/Welcome.html)"
   ]
  },
  {
   "cell_type": "markdown",
   "id": "1cf689cc-1467-4217-b951-7782df9a1669",
   "metadata": {},
   "source": [
    "[AWS Fargate](https://aws.amazon.com/blogs/aws/aws-fargate/)"
   ]
  },
  {
   "cell_type": "markdown",
   "id": "21e79b53-20ed-4da7-a969-f40f98f392fc",
   "metadata": {},
   "source": [
    "[AWS ECS and Fargate](https://dev.to/aws-builders/step-by-step-guide-highly-available-architecture-with-alb-and-amazon-ecs-on-aws-fargate-cgi)"
   ]
  },
  {
   "cell_type": "markdown",
   "id": "ea7fa844-32d1-4ca8-b239-fad4121bba56",
   "metadata": {},
   "source": [
    "[Node ECS Terraform](https://blog.devops.dev/deploying-docker-image-on-aws-ecs-infrastructure-automation-using-terraform-a-step-by-step-guide-23e17e5ced76)"
   ]
  },
  {
   "cell_type": "markdown",
   "id": "04c19768-efb9-4e20-8e2e-a3278e6cf820",
   "metadata": {},
   "source": [
    "[Fargate Pricing](https://www.simform.com/blog/aws-fargate-pricing/)"
   ]
  },
  {
   "cell_type": "markdown",
   "id": "47a2b703-3980-4017-8984-76214e7e4527",
   "metadata": {},
   "source": [
    "[Terraform ECS](https://spacelift.io/blog/terraform-ecs)"
   ]
  }
 ],
 "metadata": {
  "kernelspec": {
   "display_name": "Python 3 (ipykernel)",
   "language": "python",
   "name": "python3"
  },
  "language_info": {
   "codemirror_mode": {
    "name": "ipython",
    "version": 3
   },
   "file_extension": ".py",
   "mimetype": "text/x-python",
   "name": "python",
   "nbconvert_exporter": "python",
   "pygments_lexer": "ipython3",
   "version": "3.10.13"
  }
 },
 "nbformat": 4,
 "nbformat_minor": 5
}
